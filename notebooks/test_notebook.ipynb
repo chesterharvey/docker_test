{
 "cells": [
  {
   "cell_type": "code",
   "execution_count": 3,
   "id": "banner-processor",
   "metadata": {},
   "outputs": [],
   "source": [
    "import osmnx as ox\n",
    "import geopandas as gpd"
   ]
  },
  {
   "cell_type": "code",
   "execution_count": null,
   "id": "present-shoulder",
   "metadata": {},
   "outputs": [],
   "source": []
  },
  {
   "cell_type": "code",
   "execution_count": 4,
   "id": "former-gauge",
   "metadata": {},
   "outputs": [],
   "source": [
    "g = ox.graph_from_point((40.0133634,-105.2799728), 500)"
   ]
  },
  {
   "cell_type": "code",
   "execution_count": 5,
   "id": "structural-model",
   "metadata": {},
   "outputs": [],
   "source": [
    "nodes, edges = ox.graph_to_gdfs(g)"
   ]
  },
  {
   "cell_type": "code",
   "execution_count": null,
   "id": "crucial-taylor",
   "metadata": {},
   "outputs": [],
   "source": [
    "edges.plot()"
   ]
  },
  {
   "cell_type": "code",
   "execution_count": null,
   "id": "organic-atlantic",
   "metadata": {},
   "outputs": [],
   "source": [
    "import flask"
   ]
  },
  {
   "cell_type": "code",
   "execution_count": null,
   "id": "impaired-messenger",
   "metadata": {},
   "outputs": [],
   "source": []
  },
  {
   "cell_type": "code",
   "execution_count": null,
   "id": "exciting-english",
   "metadata": {},
   "outputs": [],
   "source": [
    "import pandas"
   ]
  },
  {
   "cell_type": "code",
   "execution_count": null,
   "id": "small-helicopter",
   "metadata": {},
   "outputs": [],
   "source": [
    "import streetspace as sp"
   ]
  },
  {
   "cell_type": "code",
   "execution_count": null,
   "id": "satisfactory-migration",
   "metadata": {},
   "outputs": [],
   "source": [
    "print(\"wow, this is pretty cool\")"
   ]
  },
  {
   "cell_type": "code",
   "execution_count": 1,
   "id": "competitive-financing",
   "metadata": {},
   "outputs": [],
   "source": [
    "import streetspace as sp"
   ]
  },
  {
   "cell_type": "code",
   "execution_count": null,
   "id": "nutritional-highway",
   "metadata": {},
   "outputs": [],
   "source": [
    "! conda install -c conda-forge gcc"
   ]
  },
  {
   "cell_type": "code",
   "execution_count": null,
   "id": "sufficient-tomato",
   "metadata": {},
   "outputs": [],
   "source": [
    "! pip install python-Levenshtein"
   ]
  },
  {
   "cell_type": "code",
   "execution_count": null,
   "id": "nuclear-mineral",
   "metadata": {},
   "outputs": [],
   "source": [
    "! pip uninstall streetspace -y"
   ]
  },
  {
   "cell_type": "code",
   "execution_count": null,
   "id": "above-significance",
   "metadata": {},
   "outputs": [],
   "source": [
    "! pip install git+https://github.com/chesterharvey/StreetSpace"
   ]
  }
 ],
 "metadata": {
  "kernelspec": {
   "display_name": "Python 3",
   "language": "python",
   "name": "python3"
  },
  "language_info": {
   "codemirror_mode": {
    "name": "ipython",
    "version": 3
   },
   "file_extension": ".py",
   "mimetype": "text/x-python",
   "name": "python",
   "nbconvert_exporter": "python",
   "pygments_lexer": "ipython3",
   "version": "3.9.1"
  }
 },
 "nbformat": 4,
 "nbformat_minor": 5
}
